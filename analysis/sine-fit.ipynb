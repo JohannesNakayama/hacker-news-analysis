{
 "cells": [
  {
   "cell_type": "code",
   "execution_count": 1,
   "id": "fabulous-nitrogen",
   "metadata": {},
   "outputs": [],
   "source": [
    "import pandas as pd\n",
    "import os\n",
    "import seaborn as sns\n",
    "import math\n",
    "from scipy.optimize import curve_fit\n",
    "import numpy as np\n",
    "import matplotlib.pyplot as plt "
   ]
  },
  {
   "cell_type": "markdown",
   "id": "freelance-switch",
   "metadata": {},
   "source": [
    "The data was processed in R beforehand. "
   ]
  },
  {
   "cell_type": "code",
   "execution_count": 2,
   "id": "ordinary-infrared",
   "metadata": {},
   "outputs": [],
   "source": [
    "data = pd.read_feather(os.path.join(\"..\", \"data\", \"data-posting-volume.feather\"))"
   ]
  },
  {
   "cell_type": "markdown",
   "id": "specified-produce",
   "metadata": {},
   "source": [
    "This is what the data looks like."
   ]
  },
  {
   "cell_type": "code",
   "execution_count": 3,
   "id": "introductory-caribbean",
   "metadata": {},
   "outputs": [
    {
     "data": {
      "text/html": [
       "<div>\n",
       "<style scoped>\n",
       "    .dataframe tbody tr th:only-of-type {\n",
       "        vertical-align: middle;\n",
       "    }\n",
       "\n",
       "    .dataframe tbody tr th {\n",
       "        vertical-align: top;\n",
       "    }\n",
       "\n",
       "    .dataframe thead th {\n",
       "        text-align: right;\n",
       "    }\n",
       "</style>\n",
       "<table border=\"1\" class=\"dataframe\">\n",
       "  <thead>\n",
       "    <tr style=\"text-align: right;\">\n",
       "      <th></th>\n",
       "      <th>subtime_hour</th>\n",
       "      <th>subtime_hour_scaled</th>\n",
       "      <th>mean_count_per_hour</th>\n",
       "      <th>mean_count_per_hour_standardized</th>\n",
       "    </tr>\n",
       "  </thead>\n",
       "  <tbody>\n",
       "    <tr>\n",
       "      <th>0</th>\n",
       "      <td>0</td>\n",
       "      <td>0.000000</td>\n",
       "      <td>34.250000</td>\n",
       "      <td>-0.327375</td>\n",
       "    </tr>\n",
       "    <tr>\n",
       "      <th>1</th>\n",
       "      <td>1</td>\n",
       "      <td>0.041667</td>\n",
       "      <td>26.750000</td>\n",
       "      <td>-0.735845</td>\n",
       "    </tr>\n",
       "    <tr>\n",
       "      <th>2</th>\n",
       "      <td>2</td>\n",
       "      <td>0.083333</td>\n",
       "      <td>24.250000</td>\n",
       "      <td>-0.872001</td>\n",
       "    </tr>\n",
       "    <tr>\n",
       "      <th>3</th>\n",
       "      <td>3</td>\n",
       "      <td>0.125000</td>\n",
       "      <td>23.000000</td>\n",
       "      <td>-0.940080</td>\n",
       "    </tr>\n",
       "    <tr>\n",
       "      <th>4</th>\n",
       "      <td>4</td>\n",
       "      <td>0.166667</td>\n",
       "      <td>19.375000</td>\n",
       "      <td>-1.137507</td>\n",
       "    </tr>\n",
       "    <tr>\n",
       "      <th>5</th>\n",
       "      <td>5</td>\n",
       "      <td>0.208333</td>\n",
       "      <td>22.250000</td>\n",
       "      <td>-0.980927</td>\n",
       "    </tr>\n",
       "    <tr>\n",
       "      <th>6</th>\n",
       "      <td>6</td>\n",
       "      <td>0.250000</td>\n",
       "      <td>22.625000</td>\n",
       "      <td>-0.960503</td>\n",
       "    </tr>\n",
       "    <tr>\n",
       "      <th>7</th>\n",
       "      <td>7</td>\n",
       "      <td>0.291667</td>\n",
       "      <td>19.375000</td>\n",
       "      <td>-1.137507</td>\n",
       "    </tr>\n",
       "    <tr>\n",
       "      <th>8</th>\n",
       "      <td>8</td>\n",
       "      <td>0.333333</td>\n",
       "      <td>21.875000</td>\n",
       "      <td>-1.001350</td>\n",
       "    </tr>\n",
       "    <tr>\n",
       "      <th>9</th>\n",
       "      <td>9</td>\n",
       "      <td>0.375000</td>\n",
       "      <td>20.875000</td>\n",
       "      <td>-1.055813</td>\n",
       "    </tr>\n",
       "    <tr>\n",
       "      <th>10</th>\n",
       "      <td>10</td>\n",
       "      <td>0.416667</td>\n",
       "      <td>29.250000</td>\n",
       "      <td>-0.599688</td>\n",
       "    </tr>\n",
       "    <tr>\n",
       "      <th>11</th>\n",
       "      <td>11</td>\n",
       "      <td>0.458333</td>\n",
       "      <td>27.875000</td>\n",
       "      <td>-0.674574</td>\n",
       "    </tr>\n",
       "    <tr>\n",
       "      <th>12</th>\n",
       "      <td>12</td>\n",
       "      <td>0.500000</td>\n",
       "      <td>37.375000</td>\n",
       "      <td>-0.157179</td>\n",
       "    </tr>\n",
       "    <tr>\n",
       "      <th>13</th>\n",
       "      <td>13</td>\n",
       "      <td>0.541667</td>\n",
       "      <td>42.500000</td>\n",
       "      <td>0.121942</td>\n",
       "    </tr>\n",
       "    <tr>\n",
       "      <th>14</th>\n",
       "      <td>14</td>\n",
       "      <td>0.583333</td>\n",
       "      <td>49.125000</td>\n",
       "      <td>0.482757</td>\n",
       "    </tr>\n",
       "    <tr>\n",
       "      <th>15</th>\n",
       "      <td>15</td>\n",
       "      <td>0.625000</td>\n",
       "      <td>59.875000</td>\n",
       "      <td>1.068231</td>\n",
       "    </tr>\n",
       "    <tr>\n",
       "      <th>16</th>\n",
       "      <td>16</td>\n",
       "      <td>0.666667</td>\n",
       "      <td>64.625000</td>\n",
       "      <td>1.326929</td>\n",
       "    </tr>\n",
       "    <tr>\n",
       "      <th>17</th>\n",
       "      <td>17</td>\n",
       "      <td>0.708333</td>\n",
       "      <td>63.125000</td>\n",
       "      <td>1.245235</td>\n",
       "    </tr>\n",
       "    <tr>\n",
       "      <th>18</th>\n",
       "      <td>18</td>\n",
       "      <td>0.750000</td>\n",
       "      <td>70.875000</td>\n",
       "      <td>1.667320</td>\n",
       "    </tr>\n",
       "    <tr>\n",
       "      <th>19</th>\n",
       "      <td>19</td>\n",
       "      <td>0.791667</td>\n",
       "      <td>70.375000</td>\n",
       "      <td>1.640089</td>\n",
       "    </tr>\n",
       "    <tr>\n",
       "      <th>20</th>\n",
       "      <td>20</td>\n",
       "      <td>0.833333</td>\n",
       "      <td>63.375000</td>\n",
       "      <td>1.258850</td>\n",
       "    </tr>\n",
       "    <tr>\n",
       "      <th>21</th>\n",
       "      <td>21</td>\n",
       "      <td>0.875000</td>\n",
       "      <td>54.500000</td>\n",
       "      <td>0.775494</td>\n",
       "    </tr>\n",
       "    <tr>\n",
       "      <th>22</th>\n",
       "      <td>22</td>\n",
       "      <td>0.916667</td>\n",
       "      <td>57.875000</td>\n",
       "      <td>0.959306</td>\n",
       "    </tr>\n",
       "    <tr>\n",
       "      <th>23</th>\n",
       "      <td>23</td>\n",
       "      <td>0.958333</td>\n",
       "      <td>40.888889</td>\n",
       "      <td>0.034197</td>\n",
       "    </tr>\n",
       "  </tbody>\n",
       "</table>\n",
       "</div>"
      ],
      "text/plain": [
       "    subtime_hour  subtime_hour_scaled  mean_count_per_hour  \\\n",
       "0              0             0.000000            34.250000   \n",
       "1              1             0.041667            26.750000   \n",
       "2              2             0.083333            24.250000   \n",
       "3              3             0.125000            23.000000   \n",
       "4              4             0.166667            19.375000   \n",
       "5              5             0.208333            22.250000   \n",
       "6              6             0.250000            22.625000   \n",
       "7              7             0.291667            19.375000   \n",
       "8              8             0.333333            21.875000   \n",
       "9              9             0.375000            20.875000   \n",
       "10            10             0.416667            29.250000   \n",
       "11            11             0.458333            27.875000   \n",
       "12            12             0.500000            37.375000   \n",
       "13            13             0.541667            42.500000   \n",
       "14            14             0.583333            49.125000   \n",
       "15            15             0.625000            59.875000   \n",
       "16            16             0.666667            64.625000   \n",
       "17            17             0.708333            63.125000   \n",
       "18            18             0.750000            70.875000   \n",
       "19            19             0.791667            70.375000   \n",
       "20            20             0.833333            63.375000   \n",
       "21            21             0.875000            54.500000   \n",
       "22            22             0.916667            57.875000   \n",
       "23            23             0.958333            40.888889   \n",
       "\n",
       "    mean_count_per_hour_standardized  \n",
       "0                          -0.327375  \n",
       "1                          -0.735845  \n",
       "2                          -0.872001  \n",
       "3                          -0.940080  \n",
       "4                          -1.137507  \n",
       "5                          -0.980927  \n",
       "6                          -0.960503  \n",
       "7                          -1.137507  \n",
       "8                          -1.001350  \n",
       "9                          -1.055813  \n",
       "10                         -0.599688  \n",
       "11                         -0.674574  \n",
       "12                         -0.157179  \n",
       "13                          0.121942  \n",
       "14                          0.482757  \n",
       "15                          1.068231  \n",
       "16                          1.326929  \n",
       "17                          1.245235  \n",
       "18                          1.667320  \n",
       "19                          1.640089  \n",
       "20                          1.258850  \n",
       "21                          0.775494  \n",
       "22                          0.959306  \n",
       "23                          0.034197  "
      ]
     },
     "execution_count": 3,
     "metadata": {},
     "output_type": "execute_result"
    }
   ],
   "source": [
    "data"
   ]
  },
  {
   "cell_type": "markdown",
   "id": "organic-sixth",
   "metadata": {},
   "source": [
    "The mean arrival rate per hour has a strongly periodic look."
   ]
  },
  {
   "cell_type": "code",
   "execution_count": 4,
   "id": "resident-sweet",
   "metadata": {},
   "outputs": [
    {
     "data": {
      "text/plain": [
       "<AxesSubplot:xlabel='subtime_hour_scaled', ylabel='mean_count_per_hour_standardized'>"
      ]
     },
     "execution_count": 4,
     "metadata": {},
     "output_type": "execute_result"
    },
    {
     "data": {
      "image/png": "[encoded data removed]",
      "text/plain": [
       "<Figure size 432x288 with 1 Axes>"
      ]
     },
     "metadata": {
      "needs_background": "light"
     },
     "output_type": "display_data"
    }
   ],
   "source": [
    "sns.scatterplot(x=data.subtime_hour_scaled, y=data.mean_count_per_hour_standardized)"
   ]
  },
  {
   "cell_type": "markdown",
   "id": "received-worthy",
   "metadata": {},
   "source": [
    "I propose to fit this function to the data to simulate arrival rates later on in the simulation.\n",
    "In mathematical notation, this is the function: $f(x) = -sin(\\alpha x)$."
   ]
  },
  {
   "cell_type": "code",
   "execution_count": 5,
   "id": "dangerous-canadian",
   "metadata": {},
   "outputs": [],
   "source": [
    "def scaled_sin(x, alpha):\n",
    "    return np.array([(-1 * math.sin(alpha * i)) for i in x])"
   ]
  },
  {
   "cell_type": "markdown",
   "id": "personal-compiler",
   "metadata": {},
   "source": [
    "Think of the fitting process in the following way."
   ]
  },
  {
   "cell_type": "code",
   "execution_count": 6,
   "id": "known-turning",
   "metadata": {},
   "outputs": [
    {
     "data": {
      "image/png": "[encoded data removed]",
      "text/plain": [
       "<Figure size 432x288 with 1 Axes>"
      ]
     },
     "metadata": {
      "needs_background": "light"
     },
     "output_type": "display_data"
    }
   ],
   "source": [
    "xdata = np.arange(0, 1, 0.01)\n",
    "ydata1 = scaled_sin(xdata, 0)\n",
    "ydata2 = scaled_sin(xdata, 1)\n",
    "ydata3 = scaled_sin(xdata, 2)\n",
    "ydata4 = scaled_sin(xdata, 3)\n",
    "ydata5 = scaled_sin(xdata, 4)\n",
    "ydata6 = scaled_sin(xdata, 5)\n",
    "ydata7 = scaled_sin(xdata, 6)\n",
    "ydata8 = scaled_sin(xdata, 7)\n",
    "\n",
    "f, ax = plt.subplots(1)\n",
    "ax.plot(xdata, ydata1)\n",
    "ax.plot(xdata, ydata2)\n",
    "ax.plot(xdata, ydata3)\n",
    "ax.plot(xdata, ydata4)\n",
    "ax.plot(xdata, ydata5)\n",
    "ax.plot(xdata, ydata6)\n",
    "ax.plot(xdata, ydata7)\n",
    "ax.plot(xdata, ydata8)\n",
    "plt.show()"
   ]
  },
  {
   "cell_type": "markdown",
   "id": "exotic-offset",
   "metadata": {},
   "source": [
    "An argument could be made to add a second parameter to fit the amplitude as well, which would yield the following function: $f(x) = -\\beta sin(\\alpha x)$"
   ]
  },
  {
   "cell_type": "markdown",
   "id": "included-consultancy",
   "metadata": {},
   "source": [
    "We treat the scaled time axis as our predictors and try to fit the above function to predict the mean arrival rate per hour. As we are fitting a continuous function, estimation the single parameter of the function can later on be used to produce values at will. "
   ]
  },
  {
   "cell_type": "code",
   "execution_count": 7,
   "id": "plain-integration",
   "metadata": {},
   "outputs": [],
   "source": [
    "xdata = data.subtime_hour_scaled.values\n",
    "ydata = data.mean_count_per_hour_standardized.values"
   ]
  },
  {
   "cell_type": "markdown",
   "id": "effective-original",
   "metadata": {},
   "source": [
    "Note that the value 6 is given as an initial value for the parameter estimation. If no initial value is supplied, the estimator underfits the data."
   ]
  },
  {
   "cell_type": "code",
   "execution_count": 8,
   "id": "aquatic-whole",
   "metadata": {},
   "outputs": [],
   "source": [
    "estimation = curve_fit(scaled_sin, xdata, ydata, 6)"
   ]
  },
  {
   "cell_type": "markdown",
   "id": "civilian-commission",
   "metadata": {},
   "source": [
    "This is the function parameter that we estimated. "
   ]
  },
  {
   "cell_type": "code",
   "execution_count": 9,
   "id": "measured-housing",
   "metadata": {},
   "outputs": [
    {
     "data": {
      "text/plain": [
       "6.17725586778391"
      ]
     },
     "execution_count": 9,
     "metadata": {},
     "output_type": "execute_result"
    }
   ],
   "source": [
    "estimation[0][0]"
   ]
  },
  {
   "cell_type": "markdown",
   "id": "global-contrast",
   "metadata": {},
   "source": [
    "With this parameter, the function looks like this."
   ]
  },
  {
   "cell_type": "code",
   "execution_count": 10,
   "id": "consistent-restoration",
   "metadata": {},
   "outputs": [
    {
     "data": {
      "text/plain": [
       "<AxesSubplot:>"
      ]
     },
     "execution_count": 10,
     "metadata": {},
     "output_type": "execute_result"
    },
    {
     "data": {
      "image/png": "[encoded data removed]",
      "text/plain": [
       "<Figure size 432x288 with 1 Axes>"
      ]
     },
     "metadata": {
      "needs_background": "light"
     },
     "output_type": "display_data"
    }
   ],
   "source": [
    "sns.lineplot(x=np.arange(0., 1., 0.01), y=scaled_sin(np.arange(0., 1., 0.01), estimation[0][0]))"
   ]
  },
  {
   "cell_type": "markdown",
   "id": "acoustic-circle",
   "metadata": {},
   "source": [
    "Let's now look if this fit has face validity."
   ]
  },
  {
   "cell_type": "code",
   "execution_count": 11,
   "id": "stuck-spiritual",
   "metadata": {},
   "outputs": [],
   "source": [
    "data['pred'] = scaled_sin(data.subtime_hour_scaled, estimation[0][0])"
   ]
  },
  {
   "cell_type": "code",
   "execution_count": 12,
   "id": "fitting-virus",
   "metadata": {},
   "outputs": [],
   "source": [
    "xdata = data.subtime_hour_scaled\n",
    "ydata1 = data.mean_count_per_hour_standardized\n",
    "ydata2 = data.pred"
   ]
  },
  {
   "cell_type": "code",
   "execution_count": 13,
   "id": "sexual-advantage",
   "metadata": {},
   "outputs": [
    {
     "data": {
      "image/png": "[encoded data removed]",
      "text/plain": [
       "<Figure size 432x288 with 1 Axes>"
      ]
     },
     "metadata": {
      "needs_background": "light"
     },
     "output_type": "display_data"
    }
   ],
   "source": [
    "f, ax = plt.subplots(1)\n",
    "ax.plot(xdata, ydata1)\n",
    "ax.plot(xdata, ydata2)\n",
    "plt.show()"
   ]
  },
  {
   "cell_type": "markdown",
   "id": "superior-fountain",
   "metadata": {},
   "source": [
    "Is this good enough?\n",
    "\n",
    "\n",
    "\n",
    "\n",
    "\n",
    "\n",
    "\n",
    "\n",
    "\n",
    "\n",
    "\n",
    "\n",
    "\n",
    "\n"
   ]
  }
 ],
 "metadata": {
  "kernelspec": {
   "display_name": "science",
   "language": "python",
   "name": "science"
  },
  "language_info": {
   "codemirror_mode": {
    "name": "ipython",
    "version": 3
   },
   "file_extension": ".py",
   "mimetype": "text/x-python",
   "name": "python",
   "nbconvert_exporter": "python",
   "pygments_lexer": "ipython3",
   "version": "3.8.5"
  }
 },
 "nbformat": 4,
 "nbformat_minor": 5
}
